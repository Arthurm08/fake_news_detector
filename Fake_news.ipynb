{
  "nbformat": 4,
  "nbformat_minor": 0,
  "metadata": {
    "colab": {
      "provenance": [],
      "authorship_tag": "ABX9TyPForNfD974S5AFSKkJDKrD",
      "include_colab_link": true
    },
    "kernelspec": {
      "name": "python3",
      "display_name": "Python 3"
    },
    "language_info": {
      "name": "python"
    }
  },
  "cells": [
    {
      "cell_type": "markdown",
      "metadata": {
        "id": "view-in-github",
        "colab_type": "text"
      },
      "source": [
        "<a href=\"https://colab.research.google.com/github/Arthurm08/fake_news_detector/blob/main/Fake_news.ipynb\" target=\"_parent\"><img src=\"https://colab.research.google.com/assets/colab-badge.svg\" alt=\"Open In Colab\"/></a>"
      ]
    },
    {
      "cell_type": "code",
      "execution_count": 8,
      "metadata": {
        "colab": {
          "base_uri": "https://localhost:8080/"
        },
        "id": "xh1_PCxkRTkK",
        "outputId": "c360dfb1-3a06-463c-f5b2-67bb4956527a"
      },
      "outputs": [
        {
          "output_type": "stream",
          "name": "stdout",
          "text": [
            "                                               texto rótulo\n",
            "0  Nova pesquisa mostra aumento da popularidade d...   Real\n",
            "1                       NASA descobre vida em Marte!   Fake\n",
            "2  Vacina contra COVID-19 é eficaz, dizem cientis...   Real\n",
            "3  Estudo afirma que comer chocolate todos os dia...   Real\n",
            "4  Bill Gates anuncia planos de colonizar Marte n...   Fake\n",
            "A precisão do modelo é: 100.00%\n"
          ]
        }
      ],
      "source": [
        "# Importando bibliotecas\n",
        "import pandas as pd\n",
        "from sklearn.model_selection import train_test_split\n",
        "from sklearn.feature_extraction.text import TfidfVectorizer\n",
        "from sklearn.linear_model import PassiveAggressiveClassifier\n",
        "from sklearn.metrics import accuracy_score\n",
        "\n",
        "# Carregando os dados\n",
        "data = pd.read_csv('teste_fake_news.csv')\n",
        "\n",
        "# Visualizando as primeiras linhas do conjunto de dados\n",
        "print(data.head())\n",
        "\n",
        "# Dividindo os dados em conjunto de treinamento e teste\n",
        "X_train, X_test, y_train, y_test = train_test_split(data['texto'], data['rótulo'], test_size=0.2, random_state=42)\n",
        "\n",
        "# Inicializando o vetorizador TF-IDF (Term Frequency-Inverse Document Frequency)\n",
        "tfidf_vectorizer = TfidfVectorizer(stop_words='english', max_df=0.7)\n",
        "\n",
        "# Ajustando e transformando os dados de treinamento e teste\n",
        "tfidf_train = tfidf_vectorizer.fit_transform(X_train)\n",
        "tfidf_test = tfidf_vectorizer.transform(X_test)\n",
        "\n",
        "# Inicializando o classificador Passive Aggressive\n",
        "pac = PassiveAggressiveClassifier(max_iter=50)\n",
        "pac.fit(tfidf_train, y_train)\n",
        "\n",
        "# Fazendo previsões no conjunto de testes\n",
        "y_pred = pac.predict(tfidf_test)\n",
        "\n",
        "# Calculando a precisão do modelo\n",
        "accuracy = accuracy_score(y_test, y_pred)\n",
        "print(f'A precisão do modelo é: {accuracy*100:.2f}%')\n"
      ]
    },
    {
      "cell_type": "code",
      "source": [],
      "metadata": {
        "id": "Ygy_DfLmR3Fx"
      },
      "execution_count": null,
      "outputs": []
    },
    {
      "cell_type": "markdown",
      "source": [],
      "metadata": {
        "id": "ugAOtMWKR0XA"
      }
    },
    {
      "cell_type": "code",
      "source": [],
      "metadata": {
        "id": "DC0IZz2eR0-N"
      },
      "execution_count": null,
      "outputs": []
    }
  ]
}